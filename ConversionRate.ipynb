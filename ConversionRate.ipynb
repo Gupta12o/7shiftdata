{
  "nbformat": 4,
  "nbformat_minor": 0,
  "metadata": {
    "colab": {
      "name": "ConversionRate.ipynb",
      "provenance": [],
      "collapsed_sections": [],
      "toc_visible": true,
      "include_colab_link": true
    },
    "kernelspec": {
      "name": "python3",
      "display_name": "Python 3"
    }
  },
  "cells": [
    {
      "cell_type": "markdown",
      "metadata": {
        "id": "view-in-github",
        "colab_type": "text"
      },
      "source": [
        "<a href=\"https://colab.research.google.com/github/Gupta12o/7shiftdata/blob/main/ConversionRate.ipynb\" target=\"_parent\"><img src=\"https://colab.research.google.com/assets/colab-badge.svg\" alt=\"Open In Colab\"/></a>"
      ]
    },
    {
      "cell_type": "code",
      "metadata": {
        "id": "aabAF6SoxrCk"
      },
      "source": [
        "import pandas as pd\r\n",
        "import numpy as np\r\n",
        "import matplotlib.pyplot as plt\r\n"
      ],
      "execution_count": 33,
      "outputs": []
    },
    {
      "cell_type": "code",
      "metadata": {
        "id": "KTUglfTvzAtr"
      },
      "source": [
        "companies = pd.read_csv(\"https://github.com/Gupta12o/7shiftdata/blob/main/companies.csv\",sep = \"\\t\")\r\n",
        "\r\n",
        "trails = pd.read_csv(\"https://github.com/Gupta12o/7shiftdata/blob/main/trials.csv\",sep = \"\\t\")"
      ],
      "execution_count": 42,
      "outputs": []
    },
    {
      "cell_type": "code",
      "metadata": {
        "colab": {
          "base_uri": "https://localhost:8080/",
          "height": 204
        },
        "id": "uDQkF5y0zWN4",
        "outputId": "9bc7097b-bffa-480e-9032-f2c1054b40fd"
      },
      "source": [
        "companies.head()"
      ],
      "execution_count": 41,
      "outputs": [
        {
          "output_type": "execute_result",
          "data": {
            "text/html": [
              "<div>\n",
              "<style scoped>\n",
              "    .dataframe tbody tr th:only-of-type {\n",
              "        vertical-align: middle;\n",
              "    }\n",
              "\n",
              "    .dataframe tbody tr th {\n",
              "        vertical-align: top;\n",
              "    }\n",
              "\n",
              "    .dataframe thead th {\n",
              "        text-align: right;\n",
              "    }\n",
              "</style>\n",
              "<table border=\"1\" class=\"dataframe\">\n",
              "  <thead>\n",
              "    <tr style=\"text-align: right;\">\n",
              "      <th></th>\n",
              "      <th>&lt;!DOCTYPE html&gt;</th>\n",
              "    </tr>\n",
              "  </thead>\n",
              "  <tbody>\n",
              "    <tr>\n",
              "      <th>0</th>\n",
              "      <td>&lt;html lang=\"en\"&gt;</td>\n",
              "    </tr>\n",
              "    <tr>\n",
              "      <th>1</th>\n",
              "      <td>&lt;head&gt;</td>\n",
              "    </tr>\n",
              "    <tr>\n",
              "      <th>2</th>\n",
              "      <td>&lt;meta charset=\"utf-8\"&gt;</td>\n",
              "    </tr>\n",
              "    <tr>\n",
              "      <th>3</th>\n",
              "      <td>&lt;link rel=\"dns-prefetch\" href=\"https://githu...</td>\n",
              "    </tr>\n",
              "    <tr>\n",
              "      <th>4</th>\n",
              "      <td>&lt;link rel=\"dns-prefetch\" href=\"https://avata...</td>\n",
              "    </tr>\n",
              "  </tbody>\n",
              "</table>\n",
              "</div>"
            ],
            "text/plain": [
              "                                     <!DOCTYPE html>\n",
              "0                                   <html lang=\"en\">\n",
              "1                                             <head>\n",
              "2                             <meta charset=\"utf-8\">\n",
              "3    <link rel=\"dns-prefetch\" href=\"https://githu...\n",
              "4    <link rel=\"dns-prefetch\" href=\"https://avata..."
            ]
          },
          "metadata": {
            "tags": []
          },
          "execution_count": 41
        }
      ]
    },
    {
      "cell_type": "code",
      "metadata": {
        "colab": {
          "base_uri": "https://localhost:8080/",
          "height": 677
        },
        "id": "axqCsro7zinl",
        "outputId": "2b40f1dc-c6de-461b-fff5-53c859b931a5"
      },
      "source": [
        "trails.head(20)"
      ],
      "execution_count": null,
      "outputs": [
        {
          "output_type": "execute_result",
          "data": {
            "text/html": [
              "<div>\n",
              "<style scoped>\n",
              "    .dataframe tbody tr th:only-of-type {\n",
              "        vertical-align: middle;\n",
              "    }\n",
              "\n",
              "    .dataframe tbody tr th {\n",
              "        vertical-align: top;\n",
              "    }\n",
              "\n",
              "    .dataframe thead th {\n",
              "        text-align: right;\n",
              "    }\n",
              "</style>\n",
              "<table border=\"1\" class=\"dataframe\">\n",
              "  <thead>\n",
              "    <tr style=\"text-align: right;\">\n",
              "      <th></th>\n",
              "      <th>Unnamed: 0</th>\n",
              "      <th>trial_date</th>\n",
              "      <th>customer_name</th>\n",
              "      <th>utm</th>\n",
              "      <th>display_price</th>\n",
              "      <th>company_id</th>\n",
              "    </tr>\n",
              "  </thead>\n",
              "  <tbody>\n",
              "    <tr>\n",
              "      <th>0</th>\n",
              "      <td>0</td>\n",
              "      <td>2015-11-01</td>\n",
              "      <td>David Gross</td>\n",
              "      <td>google</td>\n",
              "      <td>11</td>\n",
              "      <td>101.0</td>\n",
              "    </tr>\n",
              "    <tr>\n",
              "      <th>1</th>\n",
              "      <td>1</td>\n",
              "      <td>2016-08-11</td>\n",
              "      <td>Dawn Allen</td>\n",
              "      <td>organic</td>\n",
              "      <td>9</td>\n",
              "      <td>102.0</td>\n",
              "    </tr>\n",
              "    <tr>\n",
              "      <th>2</th>\n",
              "      <td>2</td>\n",
              "      <td>2016-09-20</td>\n",
              "      <td>Randy Wood</td>\n",
              "      <td>google</td>\n",
              "      <td>9</td>\n",
              "      <td>103.0</td>\n",
              "    </tr>\n",
              "    <tr>\n",
              "      <th>3</th>\n",
              "      <td>3</td>\n",
              "      <td>2017-03-12</td>\n",
              "      <td>Michael Kemp</td>\n",
              "      <td>organic</td>\n",
              "      <td>25</td>\n",
              "      <td>104.0</td>\n",
              "    </tr>\n",
              "    <tr>\n",
              "      <th>4</th>\n",
              "      <td>4</td>\n",
              "      <td>2017-03-28</td>\n",
              "      <td>Emily Washington</td>\n",
              "      <td>linkedin</td>\n",
              "      <td>44</td>\n",
              "      <td>NaN</td>\n",
              "    </tr>\n",
              "    <tr>\n",
              "      <th>5</th>\n",
              "      <td>5</td>\n",
              "      <td>2017-03-28</td>\n",
              "      <td>Kevin Cook DDS</td>\n",
              "      <td>linkedin</td>\n",
              "      <td>31</td>\n",
              "      <td>NaN</td>\n",
              "    </tr>\n",
              "    <tr>\n",
              "      <th>6</th>\n",
              "      <td>6</td>\n",
              "      <td>2017-03-28</td>\n",
              "      <td>Paul Foster</td>\n",
              "      <td>email_footer</td>\n",
              "      <td>47</td>\n",
              "      <td>NaN</td>\n",
              "    </tr>\n",
              "    <tr>\n",
              "      <th>7</th>\n",
              "      <td>7</td>\n",
              "      <td>2017-03-28</td>\n",
              "      <td>David Scott</td>\n",
              "      <td>email_footer</td>\n",
              "      <td>42</td>\n",
              "      <td>NaN</td>\n",
              "    </tr>\n",
              "    <tr>\n",
              "      <th>8</th>\n",
              "      <td>8</td>\n",
              "      <td>2017-03-28</td>\n",
              "      <td>Kathleen Wilson</td>\n",
              "      <td>facebook</td>\n",
              "      <td>47</td>\n",
              "      <td>NaN</td>\n",
              "    </tr>\n",
              "    <tr>\n",
              "      <th>9</th>\n",
              "      <td>9</td>\n",
              "      <td>2017-03-28</td>\n",
              "      <td>Antonio Brown</td>\n",
              "      <td>email_footer</td>\n",
              "      <td>45</td>\n",
              "      <td>NaN</td>\n",
              "    </tr>\n",
              "    <tr>\n",
              "      <th>10</th>\n",
              "      <td>10</td>\n",
              "      <td>2017-03-29</td>\n",
              "      <td>Pamela Hill</td>\n",
              "      <td>google</td>\n",
              "      <td>20</td>\n",
              "      <td>NaN</td>\n",
              "    </tr>\n",
              "    <tr>\n",
              "      <th>11</th>\n",
              "      <td>11</td>\n",
              "      <td>2017-03-29</td>\n",
              "      <td>Robert Brown</td>\n",
              "      <td>facebook</td>\n",
              "      <td>47</td>\n",
              "      <td>NaN</td>\n",
              "    </tr>\n",
              "    <tr>\n",
              "      <th>12</th>\n",
              "      <td>12</td>\n",
              "      <td>2017-03-29</td>\n",
              "      <td>Crystal Rice</td>\n",
              "      <td>email_footer</td>\n",
              "      <td>46</td>\n",
              "      <td>NaN</td>\n",
              "    </tr>\n",
              "    <tr>\n",
              "      <th>13</th>\n",
              "      <td>13</td>\n",
              "      <td>2017-03-29</td>\n",
              "      <td>Randall Castro Jr.</td>\n",
              "      <td>google</td>\n",
              "      <td>32</td>\n",
              "      <td>NaN</td>\n",
              "    </tr>\n",
              "    <tr>\n",
              "      <th>14</th>\n",
              "      <td>14</td>\n",
              "      <td>2017-03-30</td>\n",
              "      <td>Brittany Thomas</td>\n",
              "      <td>linkedin</td>\n",
              "      <td>19</td>\n",
              "      <td>NaN</td>\n",
              "    </tr>\n",
              "    <tr>\n",
              "      <th>15</th>\n",
              "      <td>15</td>\n",
              "      <td>2017-03-30</td>\n",
              "      <td>Tyler Anderson</td>\n",
              "      <td>linkedin</td>\n",
              "      <td>49</td>\n",
              "      <td>NaN</td>\n",
              "    </tr>\n",
              "    <tr>\n",
              "      <th>16</th>\n",
              "      <td>16</td>\n",
              "      <td>2017-03-30</td>\n",
              "      <td>Nichole Martinez</td>\n",
              "      <td>google</td>\n",
              "      <td>41</td>\n",
              "      <td>NaN</td>\n",
              "    </tr>\n",
              "    <tr>\n",
              "      <th>17</th>\n",
              "      <td>17</td>\n",
              "      <td>2017-03-30</td>\n",
              "      <td>Jessica Fernandez</td>\n",
              "      <td>organic</td>\n",
              "      <td>25</td>\n",
              "      <td>NaN</td>\n",
              "    </tr>\n",
              "    <tr>\n",
              "      <th>18</th>\n",
              "      <td>18</td>\n",
              "      <td>2017-03-30</td>\n",
              "      <td>Leslie Gray</td>\n",
              "      <td>linkedin</td>\n",
              "      <td>34</td>\n",
              "      <td>NaN</td>\n",
              "    </tr>\n",
              "    <tr>\n",
              "      <th>19</th>\n",
              "      <td>19</td>\n",
              "      <td>2017-03-30</td>\n",
              "      <td>Katherine Ferguson</td>\n",
              "      <td>linkedin</td>\n",
              "      <td>37</td>\n",
              "      <td>NaN</td>\n",
              "    </tr>\n",
              "  </tbody>\n",
              "</table>\n",
              "</div>"
            ],
            "text/plain": [
              "    Unnamed: 0  trial_date  ... display_price company_id\n",
              "0            0  2015-11-01  ...            11      101.0\n",
              "1            1  2016-08-11  ...             9      102.0\n",
              "2            2  2016-09-20  ...             9      103.0\n",
              "3            3  2017-03-12  ...            25      104.0\n",
              "4            4  2017-03-28  ...            44        NaN\n",
              "5            5  2017-03-28  ...            31        NaN\n",
              "6            6  2017-03-28  ...            47        NaN\n",
              "7            7  2017-03-28  ...            42        NaN\n",
              "8            8  2017-03-28  ...            47        NaN\n",
              "9            9  2017-03-28  ...            45        NaN\n",
              "10          10  2017-03-29  ...            20        NaN\n",
              "11          11  2017-03-29  ...            47        NaN\n",
              "12          12  2017-03-29  ...            46        NaN\n",
              "13          13  2017-03-29  ...            32        NaN\n",
              "14          14  2017-03-30  ...            19        NaN\n",
              "15          15  2017-03-30  ...            49        NaN\n",
              "16          16  2017-03-30  ...            41        NaN\n",
              "17          17  2017-03-30  ...            25        NaN\n",
              "18          18  2017-03-30  ...            34        NaN\n",
              "19          19  2017-03-30  ...            37        NaN\n",
              "\n",
              "[20 rows x 6 columns]"
            ]
          },
          "metadata": {
            "tags": []
          },
          "execution_count": 4
        }
      ]
    },
    {
      "cell_type": "code",
      "metadata": {
        "colab": {
          "base_uri": "https://localhost:8080/"
        },
        "id": "0whDAHuP0uvg",
        "outputId": "eb833ddc-2898-4ad0-efc0-14922c66bbc3"
      },
      "source": [
        "companies.info()"
      ],
      "execution_count": null,
      "outputs": [
        {
          "output_type": "stream",
          "text": [
            "<class 'pandas.core.frame.DataFrame'>\n",
            "RangeIndex: 1000 entries, 0 to 999\n",
            "Data columns (total 5 columns):\n",
            " #   Column             Non-Null Count  Dtype \n",
            "---  ------             --------------  ----- \n",
            " 0   Unnamed: 0         1000 non-null   int64 \n",
            " 1   company_id         1000 non-null   int64 \n",
            " 2   signup_date        1000 non-null   object\n",
            " 3   cancellation_date  298 non-null    object\n",
            " 4   name               1000 non-null   object\n",
            "dtypes: int64(2), object(3)\n",
            "memory usage: 39.2+ KB\n"
          ],
          "name": "stdout"
        }
      ]
    },
    {
      "cell_type": "code",
      "metadata": {
        "colab": {
          "base_uri": "https://localhost:8080/"
        },
        "id": "7A2WU_cr0zB7",
        "outputId": "360326c8-f1b9-4c30-b9b1-3483466c634a"
      },
      "source": [
        "trails.info()"
      ],
      "execution_count": null,
      "outputs": [
        {
          "output_type": "stream",
          "text": [
            "<class 'pandas.core.frame.DataFrame'>\n",
            "RangeIndex: 10000 entries, 0 to 9999\n",
            "Data columns (total 6 columns):\n",
            " #   Column         Non-Null Count  Dtype  \n",
            "---  ------         --------------  -----  \n",
            " 0   Unnamed: 0     10000 non-null  int64  \n",
            " 1   trial_date     10000 non-null  object \n",
            " 2   customer_name  10000 non-null  object \n",
            " 3   utm            10000 non-null  object \n",
            " 4   display_price  10000 non-null  int64  \n",
            " 5   company_id     1000 non-null   float64\n",
            "dtypes: float64(1), int64(2), object(3)\n",
            "memory usage: 468.9+ KB\n"
          ],
          "name": "stdout"
        }
      ]
    },
    {
      "cell_type": "code",
      "metadata": {
        "id": "YwdF7cA33REz"
      },
      "source": [
        "comTrails=trails.dropna()"
      ],
      "execution_count": null,
      "outputs": []
    },
    {
      "cell_type": "code",
      "metadata": {
        "colab": {
          "base_uri": "https://localhost:8080/",
          "height": 424
        },
        "id": "skJGA4mQ3sA9",
        "outputId": "802858c6-6559-446b-f0a7-3064382b79b8"
      },
      "source": [
        "comTrails"
      ],
      "execution_count": null,
      "outputs": [
        {
          "output_type": "execute_result",
          "data": {
            "text/html": [
              "<div>\n",
              "<style scoped>\n",
              "    .dataframe tbody tr th:only-of-type {\n",
              "        vertical-align: middle;\n",
              "    }\n",
              "\n",
              "    .dataframe tbody tr th {\n",
              "        vertical-align: top;\n",
              "    }\n",
              "\n",
              "    .dataframe thead th {\n",
              "        text-align: right;\n",
              "    }\n",
              "</style>\n",
              "<table border=\"1\" class=\"dataframe\">\n",
              "  <thead>\n",
              "    <tr style=\"text-align: right;\">\n",
              "      <th></th>\n",
              "      <th>Unnamed: 0</th>\n",
              "      <th>trial_date</th>\n",
              "      <th>customer_name</th>\n",
              "      <th>utm</th>\n",
              "      <th>display_price</th>\n",
              "      <th>company_id</th>\n",
              "    </tr>\n",
              "  </thead>\n",
              "  <tbody>\n",
              "    <tr>\n",
              "      <th>0</th>\n",
              "      <td>0</td>\n",
              "      <td>2015-11-01</td>\n",
              "      <td>David Gross</td>\n",
              "      <td>google</td>\n",
              "      <td>11</td>\n",
              "      <td>101.0</td>\n",
              "    </tr>\n",
              "    <tr>\n",
              "      <th>1</th>\n",
              "      <td>1</td>\n",
              "      <td>2016-08-11</td>\n",
              "      <td>Dawn Allen</td>\n",
              "      <td>organic</td>\n",
              "      <td>9</td>\n",
              "      <td>102.0</td>\n",
              "    </tr>\n",
              "    <tr>\n",
              "      <th>2</th>\n",
              "      <td>2</td>\n",
              "      <td>2016-09-20</td>\n",
              "      <td>Randy Wood</td>\n",
              "      <td>google</td>\n",
              "      <td>9</td>\n",
              "      <td>103.0</td>\n",
              "    </tr>\n",
              "    <tr>\n",
              "      <th>3</th>\n",
              "      <td>3</td>\n",
              "      <td>2017-03-12</td>\n",
              "      <td>Michael Kemp</td>\n",
              "      <td>organic</td>\n",
              "      <td>25</td>\n",
              "      <td>104.0</td>\n",
              "    </tr>\n",
              "    <tr>\n",
              "      <th>135</th>\n",
              "      <td>135</td>\n",
              "      <td>2017-04-18</td>\n",
              "      <td>Lauren Flores</td>\n",
              "      <td>organic</td>\n",
              "      <td>19</td>\n",
              "      <td>105.0</td>\n",
              "    </tr>\n",
              "    <tr>\n",
              "      <th>...</th>\n",
              "      <td>...</td>\n",
              "      <td>...</td>\n",
              "      <td>...</td>\n",
              "      <td>...</td>\n",
              "      <td>...</td>\n",
              "      <td>...</td>\n",
              "    </tr>\n",
              "    <tr>\n",
              "      <th>9995</th>\n",
              "      <td>9995</td>\n",
              "      <td>2021-02-10</td>\n",
              "      <td>Mrs. Amy Roberts</td>\n",
              "      <td>organic</td>\n",
              "      <td>12</td>\n",
              "      <td>1096.0</td>\n",
              "    </tr>\n",
              "    <tr>\n",
              "      <th>9996</th>\n",
              "      <td>9996</td>\n",
              "      <td>2021-02-11</td>\n",
              "      <td>Cory Daugherty</td>\n",
              "      <td>organic</td>\n",
              "      <td>17</td>\n",
              "      <td>1097.0</td>\n",
              "    </tr>\n",
              "    <tr>\n",
              "      <th>9997</th>\n",
              "      <td>9997</td>\n",
              "      <td>2021-02-13</td>\n",
              "      <td>Mark Valenzuela</td>\n",
              "      <td>organic</td>\n",
              "      <td>48</td>\n",
              "      <td>1098.0</td>\n",
              "    </tr>\n",
              "    <tr>\n",
              "      <th>9998</th>\n",
              "      <td>9998</td>\n",
              "      <td>2021-02-15</td>\n",
              "      <td>Sharon Taylor</td>\n",
              "      <td>organic</td>\n",
              "      <td>49</td>\n",
              "      <td>1099.0</td>\n",
              "    </tr>\n",
              "    <tr>\n",
              "      <th>9999</th>\n",
              "      <td>9999</td>\n",
              "      <td>2021-02-18</td>\n",
              "      <td>Stephen Wright</td>\n",
              "      <td>organic</td>\n",
              "      <td>17</td>\n",
              "      <td>1100.0</td>\n",
              "    </tr>\n",
              "  </tbody>\n",
              "</table>\n",
              "<p>1000 rows × 6 columns</p>\n",
              "</div>"
            ],
            "text/plain": [
              "      Unnamed: 0  trial_date  ... display_price company_id\n",
              "0              0  2015-11-01  ...            11      101.0\n",
              "1              1  2016-08-11  ...             9      102.0\n",
              "2              2  2016-09-20  ...             9      103.0\n",
              "3              3  2017-03-12  ...            25      104.0\n",
              "135          135  2017-04-18  ...            19      105.0\n",
              "...          ...         ...  ...           ...        ...\n",
              "9995        9995  2021-02-10  ...            12     1096.0\n",
              "9996        9996  2021-02-11  ...            17     1097.0\n",
              "9997        9997  2021-02-13  ...            48     1098.0\n",
              "9998        9998  2021-02-15  ...            49     1099.0\n",
              "9999        9999  2021-02-18  ...            17     1100.0\n",
              "\n",
              "[1000 rows x 6 columns]"
            ]
          },
          "metadata": {
            "tags": []
          },
          "execution_count": 8
        }
      ]
    },
    {
      "cell_type": "markdown",
      "metadata": {
        "id": "TaZGHGf_4zhW"
      },
      "source": [
        "7shifts Data Analyst Exercise\r\n",
        "Attached are 2 files: companies.csv and trials.csv. Please explore the data for approximately 30\r\n",
        "minutes and tell me one interesting thing you find about the conversion rates. Visualizations\r\n",
        "may be helpful but are not required.\r\n",
        "Important information:\r\n",
        "- This was done in .csvs for ease of use, feel free to import it into whatever database or\r\n",
        "tools you prefer.\r\n",
        "- Trials can be joined to companies via company_id. A trial with no company ID did not\r\n",
        "convert.\r\n",
        "- Conversion rate is defined as the proportion of prospective customers (trials) that made\r\n",
        "a purchase and became actual customers (companies) within a given time period"
      ]
    },
    {
      "cell_type": "code",
      "metadata": {
        "id": "v_yZSj554ERf",
        "colab": {
          "base_uri": "https://localhost:8080/"
        },
        "outputId": "ab7c677a-92fc-44ae-95bb-7861aa457aa7"
      },
      "source": [
        "comTrails['utm'].value_counts()"
      ],
      "execution_count": null,
      "outputs": [
        {
          "output_type": "execute_result",
          "data": {
            "text/plain": [
              "organic     723\n",
              "google      232\n",
              "linkedin     45\n",
              "Name: utm, dtype: int64"
            ]
          },
          "metadata": {
            "tags": []
          },
          "execution_count": 9
        }
      ]
    },
    {
      "cell_type": "code",
      "metadata": {
        "colab": {
          "base_uri": "https://localhost:8080/"
        },
        "id": "q4EUS3ym7GS7",
        "outputId": "33fbe6e4-6da9-49d2-c75c-52025b0a3d8d"
      },
      "source": [
        "trails['utm'].value_counts()"
      ],
      "execution_count": null,
      "outputs": [
        {
          "output_type": "execute_result",
          "data": {
            "text/plain": [
              "organic         2061\n",
              "facebook        2044\n",
              "email_footer    2026\n",
              "google          1938\n",
              "linkedin        1931\n",
              "Name: utm, dtype: int64"
            ]
          },
          "metadata": {
            "tags": []
          },
          "execution_count": 10
        }
      ]
    },
    {
      "cell_type": "code",
      "metadata": {
        "colab": {
          "base_uri": "https://localhost:8080/"
        },
        "id": "VbnecSJ-9Puh",
        "outputId": "67a15723-0029-4b12-ba88-9ea1584a7539"
      },
      "source": [
        "print(trails['display_price'].max())\r\n",
        "print(trails['display_price'].min())"
      ],
      "execution_count": null,
      "outputs": [
        {
          "output_type": "stream",
          "text": [
            "49\n",
            "9\n"
          ],
          "name": "stdout"
        }
      ]
    },
    {
      "cell_type": "code",
      "metadata": {
        "id": "f1NOt3hd9p4S"
      },
      "source": [
        "trails['bins'] = pd.cut(x=trails['display_price'], bins=[9, 19, 29, 39, 49])"
      ],
      "execution_count": null,
      "outputs": []
    },
    {
      "cell_type": "code",
      "metadata": {
        "colab": {
          "base_uri": "https://localhost:8080/"
        },
        "id": "xfzorCn2-zca",
        "outputId": "bd3b0e31-4d2e-42e4-8823-33e6a33604b0"
      },
      "source": [
        "# We can check the frequency of each bin \r\n",
        "print(trails['bins'].unique())"
      ],
      "execution_count": null,
      "outputs": [
        {
          "output_type": "stream",
          "text": [
            "[(9.0, 19.0], NaN, (19.0, 29.0], (39.0, 49.0], (29.0, 39.0]]\n",
            "Categories (4, interval[int64]): [(9, 19] < (19, 29] < (29, 39] < (39, 49]]\n"
          ],
          "name": "stdout"
        }
      ]
    },
    {
      "cell_type": "code",
      "metadata": {
        "colab": {
          "base_uri": "https://localhost:8080/",
          "height": 287
        },
        "id": "KaYRJeI3_e6f",
        "outputId": "5eba9d0e-3848-4649-e89e-6a762129ed4d"
      },
      "source": [
        "trails['display_price'].hist()"
      ],
      "execution_count": null,
      "outputs": [
        {
          "output_type": "execute_result",
          "data": {
            "text/plain": [
              "<matplotlib.axes._subplots.AxesSubplot at 0x7f7661ea0828>"
            ]
          },
          "metadata": {
            "tags": []
          },
          "execution_count": 14
        },
        {
          "output_type": "display_data",
          "data": {
            "image/png": "[encoded data removed]",
            "text/plain": [
              "<Figure size 432x288 with 1 Axes>"
            ]
          },
          "metadata": {
            "tags": [],
            "needs_background": "light"
          }
        }
      ]
    },
    {
      "cell_type": "code",
      "metadata": {
        "colab": {
          "base_uri": "https://localhost:8080/",
          "height": 283
        },
        "id": "xYLcNH0P_uxE",
        "outputId": "2047f386-f8bc-4b09-d36f-1ce5964a27c2"
      },
      "source": [
        "comTrails['display_price'].hist()"
      ],
      "execution_count": null,
      "outputs": [
        {
          "output_type": "execute_result",
          "data": {
            "text/plain": [
              "<matplotlib.axes._subplots.AxesSubplot at 0x7f7661df5b70>"
            ]
          },
          "metadata": {
            "tags": []
          },
          "execution_count": 15
        },
        {
          "output_type": "display_data",
          "data": {
            "image/png": "[encoded data removed]",
            "text/plain": [
              "<Figure size 432x288 with 1 Axes>"
            ]
          },
          "metadata": {
            "tags": [],
            "needs_background": "light"
          }
        }
      ]
    },
    {
      "cell_type": "code",
      "metadata": {
        "colab": {
          "base_uri": "https://localhost:8080/",
          "height": 135
        },
        "id": "g4tmj3zc_TMT",
        "outputId": "a2129dab-0a90-41f8-cddf-ee2b0a7c24fe"
      },
      "source": [
        "# trails['bins''].hist()"
      ],
      "execution_count": null,
      "outputs": [
        {
          "output_type": "error",
          "ename": "SyntaxError",
          "evalue": "ignored",
          "traceback": [
            "\u001b[0;36m  File \u001b[0;32m\"<ipython-input-20-f67fb35327f3>\"\u001b[0;36m, line \u001b[0;32m1\u001b[0m\n\u001b[0;31m    trails['bins''].hist()\u001b[0m\n\u001b[0m                          ^\u001b[0m\n\u001b[0;31mSyntaxError\u001b[0m\u001b[0;31m:\u001b[0m EOL while scanning string literal\n"
          ]
        }
      ]
    },
    {
      "cell_type": "code",
      "metadata": {
        "colab": {
          "base_uri": "https://localhost:8080/",
          "height": 621
        },
        "id": "jSiruQ3JCHzA",
        "outputId": "6ce79d77-bf4c-41aa-f17d-c24bc6a1feb7"
      },
      "source": [
        "# Create figure and plot space\r\n",
        "fig, ax = plt.subplots(figsize=(10, 10))\r\n",
        "\r\n",
        "# Add x-axis and y-axis\r\n",
        "ax.plot(trails['trial_date'],\r\n",
        "        trails['company_id'],\r\n",
        "        color='purple')\r\n",
        "\r\n",
        "# Set title and labels for axes\r\n",
        "ax.set(xlabel=\"Date\",\r\n",
        "       ylabel=\"companyid (inches)\",\r\n",
        "       title=\"nothing\")\r\n",
        "\r\n",
        "plt.show()\r\n"
      ],
      "execution_count": null,
      "outputs": [
        {
          "output_type": "display_data",
          "data": {
            "image/png": "[encoded data removed]",
            "text/plain": [
              "<Figure size 720x720 with 1 Axes>"
            ]
          },
          "metadata": {
            "tags": [],
            "needs_background": "light"
          }
        }
      ]
    },
    {
      "cell_type": "code",
      "metadata": {
        "id": "DiKLQJsBCzA7"
      },
      "source": [
        "combined = pd.merge(companies, comTrails, how=\"inner\",on=[\"company_id\"])"
      ],
      "execution_count": null,
      "outputs": []
    },
    {
      "cell_type": "code",
      "metadata": {
        "colab": {
          "base_uri": "https://localhost:8080/",
          "height": 1000
        },
        "id": "-HiIVh_4D1HV",
        "outputId": "9e8ce152-94aa-4ad5-d271-2115c2250490"
      },
      "source": [
        "combined.head(20)"
      ],
      "execution_count": null,
      "outputs": [
        {
          "output_type": "execute_result",
          "data": {
            "text/html": [
              "<div>\n",
              "<style scoped>\n",
              "    .dataframe tbody tr th:only-of-type {\n",
              "        vertical-align: middle;\n",
              "    }\n",
              "\n",
              "    .dataframe tbody tr th {\n",
              "        vertical-align: top;\n",
              "    }\n",
              "\n",
              "    .dataframe thead th {\n",
              "        text-align: right;\n",
              "    }\n",
              "</style>\n",
              "<table border=\"1\" class=\"dataframe\">\n",
              "  <thead>\n",
              "    <tr style=\"text-align: right;\">\n",
              "      <th></th>\n",
              "      <th>Unnamed: 0_x</th>\n",
              "      <th>company_id</th>\n",
              "      <th>signup_date</th>\n",
              "      <th>cancellation_date</th>\n",
              "      <th>name</th>\n",
              "      <th>Unnamed: 0_y</th>\n",
              "      <th>trial_date</th>\n",
              "      <th>customer_name</th>\n",
              "      <th>utm</th>\n",
              "      <th>display_price</th>\n",
              "    </tr>\n",
              "  </thead>\n",
              "  <tbody>\n",
              "    <tr>\n",
              "      <th>0</th>\n",
              "      <td>0</td>\n",
              "      <td>101</td>\n",
              "      <td>2015-11-08</td>\n",
              "      <td>2019-04-02</td>\n",
              "      <td>Lee and Sons</td>\n",
              "      <td>0</td>\n",
              "      <td>2015-11-01</td>\n",
              "      <td>David Gross</td>\n",
              "      <td>google</td>\n",
              "      <td>11</td>\n",
              "    </tr>\n",
              "    <tr>\n",
              "      <th>1</th>\n",
              "      <td>1</td>\n",
              "      <td>102</td>\n",
              "      <td>2016-08-18</td>\n",
              "      <td>2019-05-17</td>\n",
              "      <td>Petersen, Johnson and Caldwell</td>\n",
              "      <td>1</td>\n",
              "      <td>2016-08-11</td>\n",
              "      <td>Dawn Allen</td>\n",
              "      <td>organic</td>\n",
              "      <td>9</td>\n",
              "    </tr>\n",
              "    <tr>\n",
              "      <th>2</th>\n",
              "      <td>2</td>\n",
              "      <td>103</td>\n",
              "      <td>2016-09-27</td>\n",
              "      <td>2019-02-25</td>\n",
              "      <td>Harper, Norris and Jackson</td>\n",
              "      <td>2</td>\n",
              "      <td>2016-09-20</td>\n",
              "      <td>Randy Wood</td>\n",
              "      <td>google</td>\n",
              "      <td>9</td>\n",
              "    </tr>\n",
              "    <tr>\n",
              "      <th>3</th>\n",
              "      <td>3</td>\n",
              "      <td>104</td>\n",
              "      <td>2017-03-19</td>\n",
              "      <td>2019-10-26</td>\n",
              "      <td>White, Sherman and Jones</td>\n",
              "      <td>3</td>\n",
              "      <td>2017-03-12</td>\n",
              "      <td>Michael Kemp</td>\n",
              "      <td>organic</td>\n",
              "      <td>25</td>\n",
              "    </tr>\n",
              "    <tr>\n",
              "      <th>4</th>\n",
              "      <td>4</td>\n",
              "      <td>105</td>\n",
              "      <td>2017-04-25</td>\n",
              "      <td>2019-02-14</td>\n",
              "      <td>Allen Ltd</td>\n",
              "      <td>135</td>\n",
              "      <td>2017-04-18</td>\n",
              "      <td>Lauren Flores</td>\n",
              "      <td>organic</td>\n",
              "      <td>19</td>\n",
              "    </tr>\n",
              "    <tr>\n",
              "      <th>5</th>\n",
              "      <td>5</td>\n",
              "      <td>106</td>\n",
              "      <td>2017-05-28</td>\n",
              "      <td>2019-12-27</td>\n",
              "      <td>Mathis-Salinas</td>\n",
              "      <td>343</td>\n",
              "      <td>2017-05-21</td>\n",
              "      <td>Sarah Norman</td>\n",
              "      <td>organic</td>\n",
              "      <td>11</td>\n",
              "    </tr>\n",
              "    <tr>\n",
              "      <th>6</th>\n",
              "      <td>6</td>\n",
              "      <td>107</td>\n",
              "      <td>2017-06-02</td>\n",
              "      <td>2020-08-09</td>\n",
              "      <td>Murphy PLC</td>\n",
              "      <td>377</td>\n",
              "      <td>2017-05-26</td>\n",
              "      <td>Elizabeth Torres</td>\n",
              "      <td>organic</td>\n",
              "      <td>13</td>\n",
              "    </tr>\n",
              "    <tr>\n",
              "      <th>7</th>\n",
              "      <td>7</td>\n",
              "      <td>108</td>\n",
              "      <td>2017-06-12</td>\n",
              "      <td>2019-11-03</td>\n",
              "      <td>Romero, Adams and Porter</td>\n",
              "      <td>434</td>\n",
              "      <td>2017-06-05</td>\n",
              "      <td>Dana Gordon</td>\n",
              "      <td>organic</td>\n",
              "      <td>28</td>\n",
              "    </tr>\n",
              "    <tr>\n",
              "      <th>8</th>\n",
              "      <td>8</td>\n",
              "      <td>109</td>\n",
              "      <td>2017-07-13</td>\n",
              "      <td>2019-07-05</td>\n",
              "      <td>Lee, Higgins and Johnson</td>\n",
              "      <td>625</td>\n",
              "      <td>2017-07-06</td>\n",
              "      <td>Mary Allen</td>\n",
              "      <td>organic</td>\n",
              "      <td>21</td>\n",
              "    </tr>\n",
              "    <tr>\n",
              "      <th>9</th>\n",
              "      <td>9</td>\n",
              "      <td>110</td>\n",
              "      <td>2017-08-26</td>\n",
              "      <td>2019-04-11</td>\n",
              "      <td>Watts, Richards and Simon</td>\n",
              "      <td>905</td>\n",
              "      <td>2017-08-19</td>\n",
              "      <td>John Parsons</td>\n",
              "      <td>organic</td>\n",
              "      <td>37</td>\n",
              "    </tr>\n",
              "    <tr>\n",
              "      <th>10</th>\n",
              "      <td>10</td>\n",
              "      <td>111</td>\n",
              "      <td>2017-09-03</td>\n",
              "      <td>2019-12-20</td>\n",
              "      <td>Mendoza-Evans</td>\n",
              "      <td>966</td>\n",
              "      <td>2017-08-27</td>\n",
              "      <td>Amanda Rogers</td>\n",
              "      <td>organic</td>\n",
              "      <td>26</td>\n",
              "    </tr>\n",
              "    <tr>\n",
              "      <th>11</th>\n",
              "      <td>11</td>\n",
              "      <td>112</td>\n",
              "      <td>2017-10-12</td>\n",
              "      <td>NaN</td>\n",
              "      <td>Espinoza-Schwartz</td>\n",
              "      <td>1230</td>\n",
              "      <td>2017-10-05</td>\n",
              "      <td>Roger Moore</td>\n",
              "      <td>organic</td>\n",
              "      <td>16</td>\n",
              "    </tr>\n",
              "    <tr>\n",
              "      <th>12</th>\n",
              "      <td>12</td>\n",
              "      <td>113</td>\n",
              "      <td>2017-10-21</td>\n",
              "      <td>2019-08-11</td>\n",
              "      <td>Howard-Brown</td>\n",
              "      <td>1305</td>\n",
              "      <td>2017-10-14</td>\n",
              "      <td>Patricia French</td>\n",
              "      <td>organic</td>\n",
              "      <td>47</td>\n",
              "    </tr>\n",
              "    <tr>\n",
              "      <th>13</th>\n",
              "      <td>13</td>\n",
              "      <td>114</td>\n",
              "      <td>2017-11-13</td>\n",
              "      <td>2019-01-21</td>\n",
              "      <td>Morris, Torres and Callahan</td>\n",
              "      <td>1453</td>\n",
              "      <td>2017-11-06</td>\n",
              "      <td>Lucas Johnson</td>\n",
              "      <td>google</td>\n",
              "      <td>17</td>\n",
              "    </tr>\n",
              "    <tr>\n",
              "      <th>14</th>\n",
              "      <td>14</td>\n",
              "      <td>115</td>\n",
              "      <td>2017-11-17</td>\n",
              "      <td>2019-03-23</td>\n",
              "      <td>Parker-Thomas</td>\n",
              "      <td>1483</td>\n",
              "      <td>2017-11-10</td>\n",
              "      <td>John Burke</td>\n",
              "      <td>google</td>\n",
              "      <td>9</td>\n",
              "    </tr>\n",
              "    <tr>\n",
              "      <th>15</th>\n",
              "      <td>15</td>\n",
              "      <td>116</td>\n",
              "      <td>2017-11-17</td>\n",
              "      <td>2019-09-08</td>\n",
              "      <td>Maldonado Group</td>\n",
              "      <td>1481</td>\n",
              "      <td>2017-11-10</td>\n",
              "      <td>Jordan Herman</td>\n",
              "      <td>organic</td>\n",
              "      <td>12</td>\n",
              "    </tr>\n",
              "    <tr>\n",
              "      <th>16</th>\n",
              "      <td>16</td>\n",
              "      <td>117</td>\n",
              "      <td>2017-11-18</td>\n",
              "      <td>2019-10-17</td>\n",
              "      <td>Sanchez-Smith</td>\n",
              "      <td>1487</td>\n",
              "      <td>2017-11-11</td>\n",
              "      <td>Amanda Bennett MD</td>\n",
              "      <td>google</td>\n",
              "      <td>39</td>\n",
              "    </tr>\n",
              "    <tr>\n",
              "      <th>17</th>\n",
              "      <td>17</td>\n",
              "      <td>118</td>\n",
              "      <td>2017-11-19</td>\n",
              "      <td>2020-02-20</td>\n",
              "      <td>Crawford, Bentley and Newman</td>\n",
              "      <td>1491</td>\n",
              "      <td>2017-11-12</td>\n",
              "      <td>Benjamin Sanders</td>\n",
              "      <td>google</td>\n",
              "      <td>14</td>\n",
              "    </tr>\n",
              "    <tr>\n",
              "      <th>18</th>\n",
              "      <td>18</td>\n",
              "      <td>119</td>\n",
              "      <td>2017-12-03</td>\n",
              "      <td>2019-07-01</td>\n",
              "      <td>Hansen Ltd</td>\n",
              "      <td>1565</td>\n",
              "      <td>2017-11-26</td>\n",
              "      <td>Andrew Roberts</td>\n",
              "      <td>linkedin</td>\n",
              "      <td>19</td>\n",
              "    </tr>\n",
              "    <tr>\n",
              "      <th>19</th>\n",
              "      <td>19</td>\n",
              "      <td>120</td>\n",
              "      <td>2017-12-03</td>\n",
              "      <td>NaN</td>\n",
              "      <td>Martinez LLC</td>\n",
              "      <td>1564</td>\n",
              "      <td>2017-11-26</td>\n",
              "      <td>Kristi Walton</td>\n",
              "      <td>organic</td>\n",
              "      <td>42</td>\n",
              "    </tr>\n",
              "  </tbody>\n",
              "</table>\n",
              "</div>"
            ],
            "text/plain": [
              "    Unnamed: 0_x  company_id  ...       utm display_price\n",
              "0              0         101  ...    google            11\n",
              "1              1         102  ...   organic             9\n",
              "2              2         103  ...    google             9\n",
              "3              3         104  ...   organic            25\n",
              "4              4         105  ...   organic            19\n",
              "5              5         106  ...   organic            11\n",
              "6              6         107  ...   organic            13\n",
              "7              7         108  ...   organic            28\n",
              "8              8         109  ...   organic            21\n",
              "9              9         110  ...   organic            37\n",
              "10            10         111  ...   organic            26\n",
              "11            11         112  ...   organic            16\n",
              "12            12         113  ...   organic            47\n",
              "13            13         114  ...    google            17\n",
              "14            14         115  ...    google             9\n",
              "15            15         116  ...   organic            12\n",
              "16            16         117  ...    google            39\n",
              "17            17         118  ...    google            14\n",
              "18            18         119  ...  linkedin            19\n",
              "19            19         120  ...   organic            42\n",
              "\n",
              "[20 rows x 10 columns]"
            ]
          },
          "metadata": {
            "tags": []
          },
          "execution_count": 33
        }
      ]
    },
    {
      "cell_type": "code",
      "metadata": {
        "colab": {
          "base_uri": "https://localhost:8080/"
        },
        "id": "O1vuhvDRFhCD",
        "outputId": "7147feb2-0a2f-49fa-e688-bdf7b8de9157"
      },
      "source": [
        "combined.shape"
      ],
      "execution_count": null,
      "outputs": [
        {
          "output_type": "execute_result",
          "data": {
            "text/plain": [
              "(1000, 10)"
            ]
          },
          "metadata": {
            "tags": []
          },
          "execution_count": 27
        }
      ]
    },
    {
      "cell_type": "code",
      "metadata": {
        "colab": {
          "base_uri": "https://localhost:8080/"
        },
        "id": "_LLN-FPsFocx",
        "outputId": "91559dc6-ca7e-48ff-86a1-68a71c490b14"
      },
      "source": [
        "combined['utm'].value_counts()"
      ],
      "execution_count": null,
      "outputs": [
        {
          "output_type": "execute_result",
          "data": {
            "text/plain": [
              "organic     723\n",
              "google      232\n",
              "linkedin     45\n",
              "Name: utm, dtype: int64"
            ]
          },
          "metadata": {
            "tags": []
          },
          "execution_count": 28
        }
      ]
    },
    {
      "cell_type": "code",
      "metadata": {
        "colab": {
          "base_uri": "https://localhost:8080/",
          "height": 621
        },
        "id": "ii8jONFAF44J",
        "outputId": "55b13e1a-9ec1-4c6e-9bb1-f4951d123250"
      },
      "source": [
        "# Create figure and plot space\r\n",
        "fig, ax = plt.subplots(figsize=(10, 10))\r\n",
        "\r\n",
        "# Add x-axis and y-axis\r\n",
        "ax.plot(combined['trial_date'],\r\n",
        "        combined['company_id'],\r\n",
        "        color='purple')\r\n",
        "\r\n",
        "# Set title and labels for axes\r\n",
        "ax.set(xlabel=\"Date\",\r\n",
        "       ylabel=\"companyid (inches)\",\r\n",
        "       title=\"nothing\")\r\n",
        "\r\n",
        "plt.show()\r\n"
      ],
      "execution_count": null,
      "outputs": [
        {
          "output_type": "display_data",
          "data": {
            "image/png": "[encoded data removed]",
            "text/plain": [
              "<Figure size 720x720 with 1 Axes>"
            ]
          },
          "metadata": {
            "tags": [],
            "needs_background": "light"
          }
        }
      ]
    }
  ]
}